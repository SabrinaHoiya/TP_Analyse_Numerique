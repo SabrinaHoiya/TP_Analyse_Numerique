{
 "cells": [
  {
   "cell_type": "markdown",
   "metadata": {},
   "source": [
    "# <center style=\"color:#DA1847\" >-- Compte Rendu TP2 Analyse Numérique  \"Interpolation Numérique \" --</center>\n",
    "## <p style=\"color:#1CBCC9\" >Réalisé par:Sabrine Hoiya 2DNI2  </p>\n",
    "***"
   ]
  },
  {
   "cell_type": "markdown",
   "metadata": {},
   "source": [
    "## <p style=\"color:#41A420\">Partie Théorique</p>\n",
    "***"
   ]
  },
  {
   "cell_type": "markdown",
   "metadata": {},
   "source": [
    "## <p style=\"color:#C5B2D3\" >L’interpolation :  </p>"
   ]
  },
  {
   "cell_type": "markdown",
   "metadata": {},
   "source": [
    "En analyse numérique, l’interpolation polynômiale est une\n",
    "technique d’interpolation d’une fonction par un polynôme.\n",
    "\n",
    "Etant donnés une fonction f : [a, b] -> R et N > 1 un entier\n",
    "naturel.\n",
    "Soint x0, x1, · · · , xN (N + 1) points (appelés aussi des\n",
    "noeuds) deux à deux distincts dans [a, b].\n",
    "Le but est de\n",
    "chercher à trouver un polynôme p (à coefficients réels) vérifiant\n",
    "le système suivant :\n",
    "\n",
    " $$\\left \\{\n",
    "   \\begin{array}{r c l}\n",
    "      f (xi ) = p(xi ) \\hspace{0.2cm}pour\\hspace{0.2cm} tout\\hspace{0.2cm} i = 0, 1, · · · ,N \\\\\n",
    "      deg(p) <= N\n",
    "   \\end{array}\n",
    "   \\right. $$"
   ]
  },
  {
   "cell_type": "markdown",
   "metadata": {},
   "source": [
    "## <p style=\"color:#C5B2D3\" >Formule de Lagrange : :  </p>"
   ]
  },
  {
   "cell_type": "markdown",
   "metadata": {},
   "source": [
    "L’unique polynôme vérifiant le systéme précedent, appelé le\n",
    "polynôme d’interpolation de Lagrange, s’écrit sous la forme\n",
    "suivante :\n",
    "\n",
    "# p(x) =Σf (xi )Li (x) = f (x0)L0(x)+f (x1)L1(x)+· · ·+f (xN)LN(x),\n",
    "avec\n",
    "\n",
    "On peut écrire\n",
    "Li (x) = (x − x0)(x − x1) · · · (x − xi−1)(x − xi+1) · · · (x − xN)\n",
    "(xi − x0)(xi − x1) · · · (xi − xi−1)(xi − xi+1) · · · (xi − xN).\n",
    "La famille {L0(x), L1(x), · · · , LN(x)} forme une base de PN[x]\n",
    "(L’ensemble des polynômes de degré ingérieur ou égal à N)."
   ]
  },
  {
   "cell_type": "code",
   "execution_count": null,
   "metadata": {},
   "outputs": [],
   "source": []
  }
 ],
 "metadata": {
  "kernelspec": {
   "display_name": "Python 3",
   "language": "python",
   "name": "python3"
  },
  "language_info": {
   "codemirror_mode": {
    "name": "ipython",
    "version": 3
   },
   "file_extension": ".py",
   "mimetype": "text/x-python",
   "name": "python",
   "nbconvert_exporter": "python",
   "pygments_lexer": "ipython3",
   "version": "3.7.6"
  }
 },
 "nbformat": 4,
 "nbformat_minor": 4
}
