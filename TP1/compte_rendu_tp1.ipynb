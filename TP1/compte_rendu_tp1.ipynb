{
 "cells": [
  {
   "cell_type": "markdown",
   "metadata": {},
   "source": [
    "*************\n",
    "<img src=\"image.JPG\"/>\n",
    "\n",
    "*************"
   ]
  },
  {
   "cell_type": "markdown",
   "metadata": {},
   "source": [
    "# <center style=\"color:#DA1847\" >-- Compte Rendu TP1 Analyse Numérique --</center>\n",
    "## <p style=\"color:#1CBCC9\" >Réalisé par:Sabrine Hoiya 2DNI2  </p>\n",
    "***"
   ]
  },
  {
   "cell_type": "markdown",
   "metadata": {},
   "source": [
    "## <p style=\"color:#41A420\">Partie Théorique</p>\n",
    "***"
   ]
  },
  {
   "cell_type": "markdown",
   "metadata": {},
   "source": [
    "\n",
    "## <p style=\"color:#C5B2D3\" >Principe de la méthode de point fixe : </p>\n",
    "Le principe de cette méthode consiste à transformer l’équation $f(x) = 0$ en une équation équivalente $g(x) = x$ . Le point α est alors un point fixe de g. Approcher les zéros de f revient à approcher les points fixes de g. \n",
    "Le choix de la fonction g est motivé par les exigences du théorème de point fixe. En effet, elle doit être contractante dans un voisinage I de α, ce qui revient à vérifier que :\n",
    "$|g_0(x)| < 1$ sur ce voisinage. Dans ce cas, on construit une suite $(x_n)$ $n \\in \\mathbb{N}$ définie par :\n",
    "\n",
    "   $$\\left \\{\n",
    "   \\begin{array}{r c l}\n",
    "      x_0 \\hspace{0.2cm}dans\\hspace{0.2cm} un\\hspace{0.2cm} voisinage \\hspace{0.2cm}I\\hspace{0.2cm}de\\hspace{0.2cm}α \\\\\n",
    "      ∀ n ≥ 0,\\hspace{0.3cm} x_{n+1} = g(x_n) \n",
    "   \\end{array}\n",
    "   \\right. $$\n"
   ]
  },
  {
   "cell_type": "markdown",
   "metadata": {},
   "source": [
    "## <p style=\"color:#C5B2D3\" >Principe de la méthode de dichotomie ( ou bisection ) : </p>\n",
    " \n",
    " La   méthode   de   dichotomie   ou   méthode   de   labissection  est,  en  mathématiques,  un  algorithme  de recherche   d'un   zéro   d'une   fonction   qui   consiste   àrépéter des partages d’un intervalle en deux parties puisà  sélectionner  le  sous-intervalle  dans  lequel  existe  unzéro de la fonction.\n",
    " \n",
    "Considérons une fonction f continue sur un intervalle [a,b]. On suppose que f admet\n",
    "une et une seule racine α dans ]a, b[ et que $f(a)*f(b) < 0$. On note\n",
    "$c=\\frac{a+b}{2}$\n",
    "le milieu de l’intervalle.\n",
    "- (1) Si $f(c) = 0$, c’est la racine de f et le problème est résolu.\n",
    "- (2) Si $f(c) \\neq 0$, nous regardons le signe de $f(a)* f(c)$.\n",
    "\n",
    " $$ \\circ \\hspace{0.5cm} Si \\hspace{0.5cm} f(a)*f(c) < 0 \\Longrightarrow\tα\\in ]a, c[$$\n",
    " $$ \\circ \\hspace{0.5cm} Si \\hspace{0.5cm} f(c)* f(b) < 0 \\Longrightarrow\tα\\in]c, b[$$\n",
    "\n",
    "On recommence le processus en prenant l’intervalle [a, c] au lieu de [a, b] dans le premier cas, et\n",
    "l’intervalle [c, b] au lieu de [a, b] dans le second cas. De cette manière, on construit par récurrence\n",
    "sur n trois suites $(a_n)$, $(b_n)$ et $(c_n)$ telles que $a_0 = a$, $b_0 = b$ et telles que pour tout n ≥ 0,\n",
    "$$(1)\\hspace{0.5cm} c_n=\\frac{a_n+b_n}{2}$$\n",
    "\n",
    "$$(2) \\hspace{0.5cm} Si \\hspace{0.5cm} f(c_n)* f(b_n) < 0 \\Longrightarrow a_{n+1} = c_n \\hspace{0.3cm}et \\hspace{0.3cm} b_{n+1} = b_n.$$\n",
    "$$(3) \\hspace{0.5cm} Si \\hspace{0.5cm} f(c_n). f(a_n) < 0 \\Longrightarrow a_{n+1} = a_n \\hspace{0.3cm}et \\hspace{0.3cm} b_{n+1} = c_n.$$\n",
    "\n",
    "On a toujours une solution à l'équation $f(x)=0$ dans l'intervalle $[a_n,b_n]$, qui est de longueur $\\frac{b_n+a_n}{2^n}$"
   ]
  },
  {
   "cell_type": "markdown",
   "metadata": {},
   "source": [
    "##  <p style=\"color:#C5B2D3\" >Principe de la méthode de Newton : </p>\n",
    "L'idée est de remplacer la courbe représentative de la fonction par sa tangente.\n",
    "\n",
    "On part d'un point $x_0$ de l'intervalle de définition de f, et on considère la tangente à la courbe représentative de f en $(x_0,f(x_0))$. Soit $x_1$ l'abscisse de l'intersection de la tangente avec l'axe des abscisses. Puisque la tangente est proche de la courbe, on peut espérer que $x_1$ donne une meilleure estimation d'une solution de l'équation f(x)=0 que $x_0$. On recommence alors le procédé à partir de $x_1$, et on construit par récurrence une suite $(x_n)$ définie par :\n",
    "$$x_{n+1}=x_n-(f(x_n)/f'(x_n))$$\n",
    "Soit $g(x)=x-(\\frac{f(x)}{f'(x)}) \\Longrightarrow x_{n+1}= g(x_n)$\n",
    "**************"
   ]
  },
  {
   "cell_type": "markdown",
   "metadata": {},
   "source": [
    "## <p style=\"color:#41A420\">Partie Pratique</p>\n",
    "************"
   ]
  },
  {
   "cell_type": "markdown",
   "metadata": {},
   "source": [
    "## <p style=\"color:#028A93\">Exercice 1 :</p> \n",
    "\n",
    ">On considère le polynôme $p(x) = (x - 1)^6$. \n",
    ">\n",
    ">En développant on\n",
    ">peut écrire ce même polynôme sous la forme\n",
    ">$f(x) = x^6 - 6x^5 + 15x^4 - 20x^3 + 15x^2 - 6x + 1.$\n",
    ">\n",
    ">1) Avec Python évaluer $p(x)$ et $f(x)$ pour $x$ allant de $.998$ à\n",
    ">$1.002$ en choisissant des pas de $.0001$.\n",
    ">\n",
    ">2) Faire un graphique de $f(x)$ et $p(x)$. Commenter."
   ]
  },
  {
   "cell_type": "markdown",
   "metadata": {},
   "source": [
    "## <p style=\"color:#36C91C\">Correction :</p>"
   ]
  },
  {
   "cell_type": "markdown",
   "metadata": {},
   "source": [
    ">#### 1)\n",
    ">On a la fonction $p$ définie par  $$p: x\\to (x-1)^6$$\n",
    "       et la fonction $f$ définie par $$f:x\\to x^6 - 6x^5 + 15x^4 - 20x^3 + 15x^2 - 6x + 1$$"
   ]
  },
  {
   "cell_type": "code",
   "execution_count": 1,
   "metadata": {},
   "outputs": [],
   "source": [
    "def p(x):\n",
    "    return (x-1)**6 \n",
    "def f(x):\n",
    "    return x**6 - 6*x**5 + 15*x**4 - 20*x**3 + 15*x**2 - 6*x + 1"
   ]
  },
  {
   "cell_type": "code",
   "execution_count": 2,
   "metadata": {},
   "outputs": [
    {
     "name": "stdout",
     "output_type": "stream",
     "text": [
      "teste si x=1\n",
      "\n",
      "p(1)=0 \n",
      "f(1)=0 \n"
     ]
    }
   ],
   "source": [
    "print('teste si x=1')\n",
    "print('')\n",
    "print('p({})={} '.format(1,p(1)))\n",
    "print('f({})={} '.format(1,f(1)))"
   ]
  },
  {
   "cell_type": "code",
   "execution_count": 3,
   "metadata": {
    "scrolled": true
   },
   "outputs": [
    {
     "name": "stdout",
     "output_type": "stream",
     "text": [
      "teste si x= 0.998\n",
      "\n",
      "p(0.998)=6.400000000000034e-17 \n",
      "f(0.998)=1.7763568394002505e-15 \n"
     ]
    }
   ],
   "source": [
    "print('teste si x= 0.998')\n",
    "print('')\n",
    "print('p({})={} '.format(0.998,p(0.998)))\n",
    "print('f({})={} '.format(0.998,f(0.998)))"
   ]
  },
  {
   "cell_type": "markdown",
   "metadata": {},
   "source": [
    ">#### interprétations:"
   ]
  },
  {
   "cell_type": "markdown",
   "metadata": {},
   "source": [
    "<p >p(x)=f(x) (f est le factoriel de p ) mais on remarque que pour x=0.998 , la fonction f est 100 fois plus grande que la fonction p. si on calcul la complexité (nombre d'operations effectué) on constate que f fait pratiquement 26 opérations alors que p fait 11 opérations d'ou le délacalage dans le résultat . Donc la factorisation d'un polynome de donne jamais une vrai précision. </p>"
   ]
  },
  {
   "cell_type": "markdown",
   "metadata": {},
   "source": [
    ">#### En Exécutant le code de Horner qui va effectuer la fontion F(x) en 13 opérations seulement:"
   ]
  },
  {
   "cell_type": "code",
   "execution_count": 3,
   "metadata": {},
   "outputs": [
    {
     "name": "stdout",
     "output_type": "stream",
     "text": [
      "Requirement already satisfied: numpy in c:\\programdata\\anaconda3\\lib\\site-packages (1.18.1)\n"
     ]
    }
   ],
   "source": [
    "import sys\n",
    "!{sys.executable} -m pip install numpy"
   ]
  },
  {
   "cell_type": "code",
   "execution_count": 4,
   "metadata": {},
   "outputs": [],
   "source": [
    "def Horner(T,Z):\n",
    "    n=len(T)\n",
    "    result=T[0]\n",
    "    for i in T[1:]:\n",
    "        result=result*Z+i\n",
    "        \n",
    "    return result"
   ]
  },
  {
   "cell_type": "code",
   "execution_count": 5,
   "metadata": {},
   "outputs": [],
   "source": [
    "def p(x):\n",
    "    return (x-1)**6\n",
    "def F(x):\n",
    "    return x**6-6*x**5+15*x**4-20*x**3+15*x**2-6*x+1"
   ]
  },
  {
   "cell_type": "code",
   "execution_count": 6,
   "metadata": {},
   "outputs": [
    {
     "name": "stdout",
     "output_type": "stream",
     "text": [
      "-1.3322676295501878e-15\n",
      "7.771561172376096e-16\n",
      "-1.1102230246251565e-15\n",
      "-6.661338147750939e-16\n",
      "1.1102230246251565e-15\n",
      "-8.881784197001252e-16\n",
      "7.771561172376096e-16\n",
      "-1.7763568394002505e-15\n",
      "2.3314683517128287e-15\n",
      "2.220446049250313e-16\n",
      "4.440892098500626e-16\n",
      "1.3322676295501878e-15\n",
      "7.771561172376096e-16\n",
      "-4.440892098500626e-16\n",
      "-1.3322676295501878e-15\n",
      "-1.7763568394002505e-15\n",
      "-2.220446049250313e-16\n",
      "-8.881784197001252e-16\n",
      "0.0\n",
      "5.551115123125783e-16\n",
      "-6.661338147750939e-16\n",
      "2.220446049250313e-16\n",
      "5.551115123125783e-16\n",
      "-8.881784197001252e-16\n",
      "4.440892098500626e-16\n",
      "-1.3322676295501878e-15\n",
      "5.551115123125783e-16\n",
      "3.3306690738754696e-16\n",
      "5.551115123125783e-16\n",
      "-2.220446049250313e-15\n",
      "4.440892098500626e-16\n",
      "-2.220446049250313e-15\n",
      "2.55351295663786e-15\n",
      "8.881784197001252e-16\n",
      "0.0\n",
      "-8.881784197001252e-16\n",
      "1.4432899320127035e-15\n",
      "1.9984014443252818e-15\n",
      "-1.9984014443252818e-15\n",
      "-1.1102230246251565e-15\n",
      "6.661338147750939e-16\n"
     ]
    }
   ],
   "source": [
    "import numpy as np\n",
    "T=[1,-6,15,-20,15,-6,1]\n",
    "X=np.arange(0.998,1.002,0.0001)\n",
    "ff=[]\n",
    "pp=[]\n",
    "for i in X:\n",
    "    f=(Horner(T,i))\n",
    "    pp.append(p(i))\n",
    "    ff.append(F(i))\n",
    "    print(f)"
   ]
  },
  {
   "cell_type": "markdown",
   "metadata": {},
   "source": [
    "#### interprétations:"
   ]
  },
  {
   "cell_type": "markdown",
   "metadata": {},
   "source": [
    "<p > on trouve des valeurs différents dans les 3 exécutions (réduite, développé,horner). mais on remarque que Horner est beaucoup plus précis que les autres. </p>"
   ]
  },
  {
   "cell_type": "markdown",
   "metadata": {},
   "source": [
    "\n",
    ">#### 2) \n",
    ">Les graphes sont alors les suivant :"
   ]
  },
  {
   "cell_type": "code",
   "execution_count": 7,
   "metadata": {},
   "outputs": [
    {
     "data": {
      "image/png": "[encoded data removed]",
      "text/plain": [
       "<Figure size 648x504 with 1 Axes>"
      ]
     },
     "metadata": {
      "needs_background": "light"
     },
     "output_type": "display_data"
    }
   ],
   "source": [
    "import matplotlib.pyplot as plt\n",
    "import numpy as np\n",
    "\n",
    "'x=np.linspace(0.998, 1.002,100)'\n",
    "x = np.arange(0.998, 1.002, 0.0001) \n",
    "p = lambda x:(x-1)**6 \n",
    "fig = plt.figure(1, figsize=(9, 7))\n",
    "plt.plot(x,p(x))\n",
    "\n",
    "f = lambda x: x**6 - 6*x**5 + 15*x**4 - 20*x**3 + 15*x**2 - 6*x + 1\n",
    "plt.plot(x,f(x))\n",
    "plt.xlabel('x')\n",
    "plt.ylabel('f(x)')\n",
    "plt.title('Solution dans [0.998:0.0001:1.002] ')\n",
    "plt.grid(True)   \n",
    "plt.show()\n"
   ]
  },
  {
   "cell_type": "markdown",
   "metadata": {},
   "source": [
    "<center><strong style=\"color:red\">==> On obtient deux courbes différents </strong></center>"
   ]
  },
  {
   "cell_type": "markdown",
   "metadata": {},
   "source": [
    "## <p style=\"color:#028A93\">Exercice 2 :</p> \n",
    "\n",
    ">On considère l'équation : $$ f(x)=x^3+x^2-3x-3=0$$\n",
    ">\n",
    ">1) Dessiner la courbe de $f$ dans l'intervalle $[-2;2]$, puis trouver des intervalles convenables pour appliquer la méthode de bisection.\n",
    ">\n",
    ">2) Utiliser un programme `dicho.m` qui permettra de trouver les solutions de l'équation $f(x)=0$ avec $eps=0.001$.\n",
    ">\n",
    ">3) Modifier le programme `dicho.m` pour qu'il donne le nombre d'itération nécessaire pour avoir la solution à $eps$ près."
   ]
  },
  {
   "cell_type": "markdown",
   "metadata": {},
   "source": [
    "## <p style=\"color:#36C91C\">Correction :</p>"
   ]
  },
  {
   "cell_type": "markdown",
   "metadata": {},
   "source": [
    ">#### 1)\n",
    ">On considère la fonction $f$ définie par  $$f: x\\to x^3 + x^2 - 3x -3 $$"
   ]
  },
  {
   "cell_type": "code",
   "execution_count": 8,
   "metadata": {},
   "outputs": [
    {
     "data": {
      "text/plain": [
       "[<matplotlib.lines.Line2D at 0x2d97b55bb48>]"
      ]
     },
     "execution_count": 8,
     "metadata": {},
     "output_type": "execute_result"
    },
    {
     "data": {
      "image/png": "[encoded data removed]",
      "text/plain": [
       "<Figure size 648x504 with 1 Axes>"
      ]
     },
     "metadata": {
      "needs_background": "light"
     },
     "output_type": "display_data"
    }
   ],
   "source": [
    "import matplotlib.pyplot as plt\n",
    "from numpy import linspace\n",
    "f=lambda x: x**3+x**2-3*x-3\n",
    "T=linspace(-2,2,100)\n",
    "fig = plt.figure(1, figsize=(9, 7))\n",
    "plt.title(\"solution dans [-2:2] \");\n",
    "plt.xlabel(\"x\")\n",
    "plt.ylabel (\"f(x)\")\n",
    "plt.grid(True)\n",
    "plt.plot(T,f(T))\n",
    " "
   ]
  },
  {
   "cell_type": "markdown",
   "metadata": {},
   "source": [
    "<em><strong style=\"color:#DA8637\">Interprétations :</strong><em>"
   ]
  },
  {
   "cell_type": "markdown",
   "metadata": {},
   "source": [
    "### Daprés le graphe de $f$ il existe 3 solutions ( ces sont les $\\alpha$ qui vérifient la relation f($\\alpha$)=0 ) :\n",
    "- $\\alpha_1 \\in ]-2;-1.5[$ \n",
    "- $\\alpha_2 \\in ]-1.5;-0.5[$ \n",
    "- $\\alpha_3 \\in ]1.5;2[$ "
   ]
  },
  {
   "cell_type": "markdown",
   "metadata": {},
   "source": [
    ">#### 2)Le code est le suivant :"
   ]
  },
  {
   "cell_type": "markdown",
   "metadata": {},
   "source": [
    "### <em style=\"color:#DA8637\"> le programme dicho.m qui permettra de trouver les solutions de l'équation  𝑓(𝑥)=0  avec  𝑒𝑝𝑠=0.001 .</em>"
   ]
  },
  {
   "cell_type": "code",
   "execution_count": 9,
   "metadata": {},
   "outputs": [],
   "source": [
    "def dicho(a,b,f,eps):\n",
    "    '''version tant que '''\n",
    "    \n",
    "    while (b-a)>eps:\n",
    "        m=(a+b)/2\n",
    "        if f(m)==0:\n",
    "            return m\n",
    "        if f(a)*f(m)<0 :\n",
    "            b=m\n",
    "        else :\n",
    "            a=m\n",
    "    return m"
   ]
  },
  {
   "cell_type": "code",
   "execution_count": 10,
   "metadata": {},
   "outputs": [
    {
     "data": {
      "text/plain": [
       "-1.7314453125"
      ]
     },
     "execution_count": 10,
     "metadata": {},
     "output_type": "execute_result"
    }
   ],
   "source": [
    "f=lambda x: x**3+x**2-3*x-3\n",
    "dicho(-2,-1.5,f,0.001)"
   ]
  },
  {
   "cell_type": "code",
   "execution_count": 11,
   "metadata": {},
   "outputs": [
    {
     "data": {
      "text/plain": [
       "-1.0001953125000003"
      ]
     },
     "execution_count": 11,
     "metadata": {},
     "output_type": "execute_result"
    }
   ],
   "source": [
    "dicho(-1.5,-0.9,f,0.001)"
   ]
  },
  {
   "cell_type": "code",
   "execution_count": 12,
   "metadata": {},
   "outputs": [
    {
     "data": {
      "text/plain": [
       "1.7314453125"
      ]
     },
     "execution_count": 12,
     "metadata": {},
     "output_type": "execute_result"
    }
   ],
   "source": [
    "dicho(1.5,2,f,0.001)"
   ]
  },
  {
   "cell_type": "markdown",
   "metadata": {},
   "source": [
    ">#### 3) Le code est le suivant :"
   ]
  },
  {
   "cell_type": "markdown",
   "metadata": {},
   "source": [
    "### <em style=\"color:#DA8637\">Version PYTHON</em>"
   ]
  },
  {
   "cell_type": "code",
   "execution_count": 13,
   "metadata": {},
   "outputs": [],
   "source": [
    "def dichow(a,b,f,eps):\n",
    "    '''version tant que '''\n",
    "    cp=0\n",
    "    while (b-a)>eps:\n",
    "        m=(a+b)/2\n",
    "        if f(m)==0:\n",
    "            return m\n",
    "        if f(a)*f(m)<0 :\n",
    "            b=m\n",
    "        else :\n",
    "            a=m\n",
    "        cp+=1\n",
    "    return m,cp"
   ]
  },
  {
   "cell_type": "code",
   "execution_count": 14,
   "metadata": {},
   "outputs": [
    {
     "data": {
      "text/plain": [
       "(-1.7314453125, 9)"
      ]
     },
     "execution_count": 14,
     "metadata": {},
     "output_type": "execute_result"
    }
   ],
   "source": [
    "f=lambda x: x**3+x**2-3*x-3\n",
    "dichow(-2,-1.5,f,0.001)"
   ]
  },
  {
   "cell_type": "markdown",
   "metadata": {},
   "source": [
    "<strong>Le nombre d'itération N nécéssaire à la méthode de la dichotomie pour trouver $\\alpha$ à $10^{-p}$ prés </strong>\n",
    "\n",
    "$$N \\geq E\\left(\\dfrac{\\ln(b-a)+p\\ln(10)}{\\ln(2)}\\right)+1$$"
   ]
  },
  {
   "cell_type": "code",
   "execution_count": 15,
   "metadata": {},
   "outputs": [
    {
     "name": "stdout",
     "output_type": "stream",
     "text": [
      "(-1.7320480346679688, 16)\n",
      "-1.0\n",
      "(1.7320480346679688, 16)\n"
     ]
    }
   ],
   "source": [
    "interval=[[-2,-1.5],[-1.5,-0.5],[1.5,2]]\n",
    "for u in interval:\n",
    "    print(dichow(u[0],u[1],f,10**(-5)))"
   ]
  },
  {
   "cell_type": "code",
   "execution_count": 16,
   "metadata": {},
   "outputs": [
    {
     "data": {
      "text/plain": [
       "(-1.0001953125000003, 10)"
      ]
     },
     "execution_count": 16,
     "metadata": {},
     "output_type": "execute_result"
    }
   ],
   "source": [
    "dichow(-1.5,-0.9,f,0.001)"
   ]
  },
  {
   "cell_type": "markdown",
   "metadata": {},
   "source": [
    "## Méthode graphique pour la recherche de la solution "
   ]
  },
  {
   "cell_type": "code",
   "execution_count": 17,
   "metadata": {},
   "outputs": [
    {
     "data": {
      "image/png": "[encoded data removed]",
      "text/plain": [
       "<Figure size 432x288 with 4 Axes>"
      ]
     },
     "metadata": {
      "needs_background": "light"
     },
     "output_type": "display_data"
    }
   ],
   "source": [
    "%matplotlib inline\n",
    "#import mpld3\n",
    "#mpld3.enable_notebook()\n",
    "import numpy as np \n",
    "import matplotlib.pyplot as plt\n",
    "\n",
    "f=lambda x:x**3+x**2-3*x-3\n",
    "\n",
    "t=np.linspace(1.7,1.75,100)\n",
    "plt.subplot(2,2,1)\n",
    "plt.plot(t,f(t),'r')\n",
    "plt.grid(True)\n",
    "##########################################\n",
    "t=np.linspace(1.2,1.4,100)\n",
    "plt.subplot(2,2,2)\n",
    "plt.plot(t,f(t),'r')\n",
    "plt.grid(True)\n",
    "##########################################\n",
    "t=np.linspace(1.35,1.4,100)\n",
    "plt.subplot(2,2,3)\n",
    "plt.plot(t,f(t),'r')\n",
    "plt.grid(True)\n",
    "#########################################\n",
    "t=np.linspace(1.365,1.367,100)\n",
    "plt.subplot(2,2,4)\n",
    "plt.plot(t,f(t),'r')\n",
    "plt.grid(True)\n"
   ]
  },
  {
   "cell_type": "markdown",
   "metadata": {},
   "source": [
    "<em><strong style=\"color:#DA8637\">Conclusion :</strong><em>"
   ]
  },
  {
   "cell_type": "markdown",
   "metadata": {},
   "source": [
    "<strong style=\"color:#37ABDA\">La méthodedichotomie est donc :</strong>\n",
    "- relativement simple \n",
    "- lente \n",
    "- necessite la connaissance de l’intervalle initial.\n",
    "==> Elle sera donc satisfaisante dans des cas simple ne demandant pas de vitesse, mais totalement inadaptee pour des calculs critiques en temps r´eel.\n",
    "\n",
    "\n",
    "\n",
    "<strong>Avantages de la méthode de la dichotomie :</strong>\n",
    "- algorithme simple\n",
    "- convergence de façon sure \n",
    "- vitesse de convergence constante \n",
    "- On peut calculer nombre d'itérations facilement si on connait epsilon\n",
    "-  on a un encadrement de la solution\n",
    "- un seul calcul de fonction à chaque itération.\n",
    "\n",
    "<strong>Inconvénients de la méthode de la dichotomie :</strong>\n",
    "- nécessite f (a) × f (b) < 0 \n",
    "- nécessite la continuité \n",
    "- vitesse lente ( un grand nombre d'itérations et ordre de convergence = 1)\n",
    "\n",
    "\n",
    "\n",
    "\n",
    "<center style=\"color:red\"><strong>==> donc il faut recourir vers des autres méthodes plus rapide comme la méthode de point fixe</strong></center> \n"
   ]
  },
  {
   "cell_type": "markdown",
   "metadata": {},
   "source": [
    "****************************"
   ]
  },
  {
   "cell_type": "markdown",
   "metadata": {},
   "source": [
    "******************"
   ]
  },
  {
   "cell_type": "markdown",
   "metadata": {},
   "source": [
    "## <p style=\"color:#028A93\">Exercice 3 :</p>\n",
    ">On considère l'équation : $$ f(x)=x^3+4x^2-10=0$$\n",
    ">1) Dessiner la courbe de $f$ dans l'intervalle $[1;2]$, puis trouver une valeur approché de la solution à 0.001 près (En >utilisant la fonction zoom du graphique).\n",
    ">\n",
    ">2) Vérifier que cette équation est équivalente aux 3 schéma du point fixe suivant:\n",
    ">\n",
    ">a) $g_1(x)=\\frac{1}{2}\\sqrt{10-x^3}=x$.\n",
    ">\n",
    ">b) $g_2(x)=\\sqrt{\\displaystyle\\frac{10}{4+x}}=x$.\n",
    ">\n",
    ">c) $g_3(x)=x-x^3-4x^2+10=x$.\n",
    ">\n",
    ">3) Ecrire puis appliquer  une fonction Matlab que l'on appellera  `pointfixe.m` aux trois schémas précédents en prenant >`x0=1.5;eps=0.001`.\n",
    ">\n",
    ">4) Quelle est la fonction (parmi $g_1, g_2$ et $g_3$) qui donne la convergence la plus rapide?\n",
    ">"
   ]
  },
  {
   "cell_type": "markdown",
   "metadata": {},
   "source": [
    "## <p style=\"color:#36C91C\">Correction :</p>"
   ]
  },
  {
   "cell_type": "markdown",
   "metadata": {},
   "source": [
    ">#### 1)On considère la fonction $f$ définie par $$f:x\\to x^3 + 4x^2 - 10 $$"
   ]
  },
  {
   "cell_type": "markdown",
   "metadata": {},
   "source": [
    "### <em style=\"color:#DA8637\">Version PYTHON</em>"
   ]
  },
  {
   "cell_type": "code",
   "execution_count": 18,
   "metadata": {},
   "outputs": [
    {
     "data": {
      "image/png": "[encoded data removed]",
      "text/plain": [
       "<Figure size 432x288 with 4 Axes>"
      ]
     },
     "metadata": {
      "needs_background": "light"
     },
     "output_type": "display_data"
    }
   ],
   "source": [
    "%matplotlib inline\n",
    "#import mpld3\n",
    "#mpld3.enable_notebook()\n",
    "import numpy as np \n",
    "import matplotlib.pyplot as plt\n",
    "\n",
    "f=lambda x:x**3+4*x**2-10\n",
    "\n",
    "t=np.linspace(1,2,100)\n",
    "plt.subplot(2,2,1)\n",
    "plt.plot(t,f(t),'r')\n",
    "plt.grid(True)\n",
    "##########################################\n",
    "t=np.linspace(1.2,1.4,100)\n",
    "plt.subplot(2,2,2)\n",
    "plt.plot(t,f(t),'r')\n",
    "plt.grid(True)\n",
    "##########################################\n",
    "t=np.linspace(1.35,1.4,100)\n",
    "plt.subplot(2,2,3)\n",
    "plt.plot(t,f(t),'r')\n",
    "plt.grid(True)\n",
    "#########################################\n",
    "t=np.linspace(1.365,1.367,100)\n",
    "plt.subplot(2,2,4)\n",
    "plt.plot(t,f(t),'r')\n",
    "plt.grid(True)"
   ]
  },
  {
   "cell_type": "markdown",
   "metadata": {},
   "source": [
    "#### 2) Justification théorique pour la fonction g1"
   ]
  },
  {
   "cell_type": "markdown",
   "metadata": {},
   "source": [
    "On considère l'équation : $$ f(x)=x^3+4x^2-10=0$$\n",
    "\n",
    "a) $g(x)=\\frac{1}{2}\\sqrt{10-x^3}=x$."
   ]
  },
  {
   "cell_type": "markdown",
   "metadata": {},
   "source": [
    "$$x^3+4x^2-10=0$$ \n",
    "    \n",
    " $$4x^2=10-x^3$$\n",
    " \n",
    " $$2x=\\sqrt{10-x^3}$$\n",
    " \n",
    " $$x=\\frac{1}{2}\\sqrt{10-x^3}$$\n",
    " \n",
    "Donc $ f(x)=g(x)$"
   ]
  },
  {
   "cell_type": "markdown",
   "metadata": {},
   "source": [
    "********************************"
   ]
  },
  {
   "cell_type": "markdown",
   "metadata": {},
   "source": [
    "b) $g(x)=\\sqrt{\\displaystyle\\frac{10}{4+x}}=x$."
   ]
  },
  {
   "cell_type": "markdown",
   "metadata": {},
   "source": [
    "$$x^3+4x^2-10=0$$\n",
    "$$x^3+4x^2=10$$\n",
    "$$x^2(x+4)=10$$\n",
    "$$x^2=\\frac{10}{x+4}$$\n",
    "$$x=\\sqrt{\\displaystyle\\frac{10}{4+x}}$$\n",
    "Donc $ f(x)=g(x)$"
   ]
  },
  {
   "cell_type": "markdown",
   "metadata": {},
   "source": [
    "********************"
   ]
  },
  {
   "cell_type": "markdown",
   "metadata": {},
   "source": [
    "c) $g(x)=x-x^3-4x^2+10=x$."
   ]
  },
  {
   "cell_type": "markdown",
   "metadata": {},
   "source": [
    "$$x^3+4x^2-10=0$$\n",
    "$$x^3+4x^2-10+x-x=0$$\n",
    "$$x^3-4x^2+x-x=10$$\n",
    "$$x^3-4x^2+x=x+10$$\n",
    "$$4x^2+x=x-x^3+10$$\n",
    "$$x=x-x^3-4x^2+10$$\n",
    "Donc $ f(x)=g(x)$"
   ]
  },
  {
   "cell_type": "markdown",
   "metadata": {},
   "source": [
    ">#### 3)Le code est le suivant :"
   ]
  },
  {
   "cell_type": "markdown",
   "metadata": {},
   "source": [
    "### <em style=\"color:#DA8637\">Version PYTHON</em>"
   ]
  },
  {
   "cell_type": "code",
   "execution_count": 19,
   "metadata": {},
   "outputs": [],
   "source": [
    "from sympy import *\n",
    "f=lambda x:  x**3+4*x**2-10 # la fonction f\n",
    "g1=lambda x: 1/2*sqrt(10-x**3)\n",
    "g2=lambda x: sqrt(10/(x+4))\n",
    "g3=lambda x: x-x**3-4*x**2 + 10\n",
    "\n",
    "\n",
    "def ptfixe(g,x0,eps,nmax):\n",
    "    zero=x0\n",
    "    for i in range(nmax):\n",
    "        x=zero \n",
    "        zero=g(x)\n",
    "        erreur=abs(zero-x)\n",
    "        print(zero)\n",
    "        if erreur<eps:\n",
    "            return zero,i\n",
    "    print('pas de convergence avec le nombre d''iteration indique')"
   ]
  },
  {
   "cell_type": "code",
   "execution_count": 20,
   "metadata": {},
   "outputs": [
    {
     "name": "stdout",
     "output_type": "stream",
     "text": [
      "1.34839972492648\n",
      "1.36737637199128\n",
      "1.36495701540249\n",
      "1.36526474811344\n"
     ]
    },
    {
     "data": {
      "text/plain": [
       "(1.36526474811344, 3)"
      ]
     },
     "execution_count": 20,
     "metadata": {},
     "output_type": "execute_result"
    }
   ],
   "source": [
    "ptfixe(g2,1.5,0.001,50)"
   ]
  },
  {
   "cell_type": "code",
   "execution_count": 21,
   "metadata": {},
   "outputs": [
    {
     "name": "stdout",
     "output_type": "stream",
     "text": [
      "1.28695376762338\n",
      "1.40254080353958\n",
      "1.34545837402329\n",
      "1.37517025281604\n",
      "1.36009419276173\n",
      "1.36784696759213\n",
      "1.36388700388402\n",
      "1.36591673339004\n",
      "1.36487821719368\n",
      "1.36541006116996\n"
     ]
    },
    {
     "data": {
      "text/plain": [
       "(1.36541006116996, 9)"
      ]
     },
     "execution_count": 21,
     "metadata": {},
     "output_type": "execute_result"
    }
   ],
   "source": [
    "ptfixe(g1,1.5,0.001,50)"
   ]
  },
  {
   "cell_type": "code",
   "execution_count": 22,
   "metadata": {},
   "outputs": [
    {
     "name": "stdout",
     "output_type": "stream",
     "text": [
      "-0.875\n",
      "6.732421875\n",
      "-469.72001200169325\n",
      "102754555.18738511\n",
      "-1.0849338705317464e+24\n",
      "pas de convergence avec le nombre diteration indique\n"
     ]
    }
   ],
   "source": [
    "ptfixe(g3,1.5,0.001,5)"
   ]
  },
  {
   "cell_type": "markdown",
   "metadata": {},
   "source": [
    "#### La fonction qui donne la convergence la plus rapide est  $g_2$ \n",
    "+ $g_2$ donne le resultat en 4 itérations seulement alors que\n",
    "+ $g_1$ donne le resultat en 10 itérations  \n",
    "+ $g_3$ n'est pas convergente\n"
   ]
  },
  {
   "cell_type": "markdown",
   "metadata": {},
   "source": [
    "<em><strong style=\"color:#DA8637\">Interprétation :</strong><em>"
   ]
  },
  {
   "cell_type": "markdown",
   "metadata": {},
   "source": [
    "* Il faut que g soit une fonction auxiliaire \"bien\" choisie pour avoir la meilleur fonction qui donne la convergence la plus rapide .\n",
    "\n",
    "<strong style=\"color:red\">Inconvénients :</strong>\n",
    "* convergence souvent diffcile à réaliser en pratique\n",
    "* certains points fixes -dits instables- ne peuvent être atteints\n",
    "* convergence lente de type linéaire, puisque l’erreur évolue ”linéairement” et non ”quadratiquement”.\n",
    "\n",
    "<center style=\"color:blue\"><strong>==> Il existe des méthodes plus efficaces que le point fixe on parle de plus connue c'est la méthode de Newton qui permet de rechercher pratiquement les solutions d'une équation f(x)=0. </strong></center> \n"
   ]
  },
  {
   "cell_type": "markdown",
   "metadata": {},
   "source": [
    "***************************"
   ]
  },
  {
   "cell_type": "markdown",
   "metadata": {},
   "source": [
    "***********************************"
   ]
  },
  {
   "cell_type": "markdown",
   "metadata": {},
   "source": [
    "## Exercice 4 :\n",
    "\n",
    ">1) On considère la fonction $f(x)=e^{-x}-x$. Ecrire puis appliquer  une fonction python  à la fonction $f$, en prenant $x0=0$, $eps=0.001$ .\n",
    ">\n",
    ">2) Montrer que l'équation $f(x)=0$ admet une solution unique que l'on peut obtenir en utilisant la méthode de Newton à partir de $x0=1$.\n"
   ]
  },
  {
   "cell_type": "markdown",
   "metadata": {},
   "source": [
    "## <p style=\"color:#36C91C\">Correction :</p>"
   ]
  },
  {
   "cell_type": "markdown",
   "metadata": {},
   "source": [
    ">#### 1) Le code est le suivant :"
   ]
  },
  {
   "cell_type": "code",
   "execution_count": 23,
   "metadata": {},
   "outputs": [],
   "source": [
    "def newton(f,fprime,a,eps):\n",
    "    x1=a\n",
    "    x2=x1-(f(x1)/fprime(x1))\n",
    "    while abs(x1-x2)>eps :\n",
    "        x1=x2\n",
    "        x2=x1-(f(x1)/fprime(x1))\n",
    "        m=x2\n",
    "    return m"
   ]
  },
  {
   "cell_type": "code",
   "execution_count": 24,
   "metadata": {},
   "outputs": [
    {
     "data": {
      "text/plain": [
       "0.5671431650348622"
      ]
     },
     "execution_count": 24,
     "metadata": {},
     "output_type": "execute_result"
    }
   ],
   "source": [
    "import math\n",
    "from sympy import *\n",
    "from sympy.abc import x\n",
    "\n",
    "f=lambda x: math.exp(-x)-x\n",
    "fprime=lambda x: -math.exp(-x)-1\n",
    "newton(f,fprime,0,0.001)"
   ]
  },
  {
   "cell_type": "markdown",
   "metadata": {},
   "source": [
    ">#### 2)Le code est le suivant :"
   ]
  },
  {
   "cell_type": "code",
   "execution_count": 25,
   "metadata": {},
   "outputs": [
    {
     "data": {
      "text/plain": [
       "0.567143285989123"
      ]
     },
     "execution_count": 25,
     "metadata": {},
     "output_type": "execute_result"
    }
   ],
   "source": [
    "newton(f,fprime,1,0.001)"
   ]
  },
  {
   "cell_type": "markdown",
   "metadata": {},
   "source": [
    "<em><strong style=\"color:#DA8637\">Interprétation :</strong><em>\n",
    "- la méthode de newton n'est qu'une cas particulier de la méthode de point fixe"
   ]
  },
  {
   "cell_type": "markdown",
   "metadata": {},
   "source": [
    "## <p style=\"color:#F30A3C\" >Conclusion </p>"
   ]
  },
  {
   "cell_type": "markdown",
   "metadata": {},
   "source": [
    "<strong>(a)</strong> Pour comparer les algorithmes, il est important de tenir compte de la présence ou non\n",
    "des facteurs suivants :\n",
    "- assurer de la convergence ainsi que la vitesse\n",
    "\n",
    "- stabilité de l'algorithme revient à la précision des résultats\n",
    "\n",
    "- effcacité des calculs (ex : nombre de fonctions à calculer à chaque itération).\n",
    "\n",
    "<strong>(b)</strong> La méthode de point fixe a surtout un interêt théorique : son analyse mathématique est relativement aisée et nous a permis d'en déduire celle de la méthode de Newton qui en est en fait un cas particulier.\n",
    "\n",
    "<strong>(c)</strong> La méthode de Newton a généralement la faveur des utilisateurs : elle est effectivement\n",
    "très rapide et est certainement à conseiller lorsque le calcul de f' est aisé et lorsque des remarques simples permettent de choisir à coup sûr la donnée initiale dans le domaine de convergence. Pour cela, elle peut être, par exemple, précédée d'une application de quelques itérations de la méthode de dichotomie.\n",
    "\n",
    "=> La comparaison Peut Pas etre juste completement car chaque method peut etre plus efficace que d'autre dans des cas precis que d'autre methode sont pas vraiment efficace et avec prise en consideration les algorithmes utilisé on trouve que la methode de point fixe genére un resultat plus rapide que l'autre methode Newton L’avantage majeur de la méthode de Newton par rapport à une méthode de point fixe par exemple est sa vitesse de convergence d’ordre 2. On peut d’ailleurs remarquer que lorsque la méthode ne converge pas, par exemple si l’itéré initial x(0) n’a pas été choisi “suffisamment proche” de x, alors la méthode diverge très vite "
   ]
  },
  {
   "cell_type": "code",
   "execution_count": null,
   "metadata": {},
   "outputs": [],
   "source": []
  }
 ],
 "metadata": {
  "celltoolbar": "Aucun(e)",
  "kernelspec": {
   "display_name": "Python 3",
   "language": "python",
   "name": "python3"
  },
  "language_info": {
   "codemirror_mode": {
    "name": "ipython",
    "version": 3
   },
   "file_extension": ".py",
   "mimetype": "text/x-python",
   "name": "python",
   "nbconvert_exporter": "python",
   "pygments_lexer": "ipython3",
   "version": "3.7.6"
  }
 },
 "nbformat": 4,
 "nbformat_minor": 4
}
