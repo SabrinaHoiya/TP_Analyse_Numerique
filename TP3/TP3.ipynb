{
 "cells": [
  {
   "cell_type": "markdown",
   "metadata": {},
   "source": [
    "**************************"
   ]
  },
  {
   "cell_type": "markdown",
   "metadata": {},
   "source": [
    "<img src=\"image.JPG\"/>"
   ]
  },
  {
   "cell_type": "markdown",
   "metadata": {},
   "source": [
    "*************************"
   ]
  },
  {
   "cell_type": "markdown",
   "metadata": {},
   "source": [
    "## <center style=\"color:#142EA0\" >-- TP3 Analyse Numérique  --</center>\n",
    "####  <p style=\"color:#D2BB3C\" >Réalisé par:Sabrine Hoiya 2DNI2  </p>\n",
    "***"
   ]
  },
  {
   "cell_type": "markdown",
   "metadata": {},
   "source": [
    "## <p style=\"color:#3C55D2\">Partie Théorique</p>\n",
    "***"
   ]
  },
  {
   "cell_type": "markdown",
   "metadata": {},
   "source": [
    "> <p >L'intégration est un des problèmes les plus importants que l'on rencontre en analyse. En effet, on rencontre souvent des intégrales dont le calcul par des méthodes analytiques est trés compliqué ou meme impossible, car il n'existe pas d'expression analytique d'une primitive de la fonction à intégrer.\n",
    "    \n",
    ">Dans ces cas, on peut appliquer des méthodes composites pour evaluer la valeur de l'integrale\n",
    "donnée.</p>"
   ]
  },
  {
   "cell_type": "markdown",
   "metadata": {},
   "source": [
    ">On appelle formule composite l’expression caractérisant cette estimation.\n",
    "Notons k l’indice des n sous-intervalles, h = (b − a)/n la longueur de chacun d’eux, xk = a + kh la borne inférieure et\n",
    "mk = a + (k + 1/2)h le point milieu, ceci pour k entre 0 et n − 1. Voici quelques formules composites :"
   ]
  },
  {
   "cell_type": "markdown",
   "metadata": {},
   "source": [
    "####  <p style=\"color:orange\"> Méthode des réctangles :</p>"
   ]
  },
  {
   "cell_type": "markdown",
   "metadata": {},
   "source": [
    "<img src=\"image1.JPG\"/>"
   ]
  },
  {
   "cell_type": "markdown",
   "metadata": {},
   "source": [
    "####  <p style=\"color:orange\"> Méthode du point milieu :</p>"
   ]
  },
  {
   "cell_type": "markdown",
   "metadata": {},
   "source": [
    "<img src=\"image2.JPG\"/>"
   ]
  },
  {
   "cell_type": "markdown",
   "metadata": {},
   "source": [
    "####  <p style=\"color:orange\"> Méthode des trapèzes :</p>"
   ]
  },
  {
   "cell_type": "markdown",
   "metadata": {},
   "source": [
    "<img src=\"image3.JPG\"/>"
   ]
  },
  {
   "cell_type": "markdown",
   "metadata": {},
   "source": [
    "####  <p style=\"color:orange\"> Méthode de Simpson :</p>"
   ]
  },
  {
   "cell_type": "markdown",
   "metadata": {},
   "source": [
    "<img src=\"image4.JPG\"/>"
   ]
  },
  {
   "cell_type": "markdown",
   "metadata": {},
   "source": [
    "*************************"
   ]
  },
  {
   "cell_type": "markdown",
   "metadata": {},
   "source": [
    "## <p style=\"color:#3C55D2\">Partie Pratique</p>\n",
    "***"
   ]
  },
  {
   "cell_type": "markdown",
   "metadata": {},
   "source": [
    "soit les 4 fonctions suivantes :\n",
    "<img src=\"image5.JPG\"/>\n",
    "\n",
    "Le but de ceTP est de comparer ces 4 méthode d’intégrations numériques.\n"
   ]
  },
  {
   "cell_type": "code",
   "execution_count": 1,
   "metadata": {},
   "outputs": [],
   "source": [
    "import numpy as np\n",
    "from numpy import *\n",
    "import matplotlib.pyplot as plt\n",
    "from ipywidgets import *"
   ]
  },
  {
   "cell_type": "code",
   "execution_count": 2,
   "metadata": {},
   "outputs": [],
   "source": [
    "f=lambda x:1/(1+x**2)"
   ]
  },
  {
   "cell_type": "code",
   "execution_count": 3,
   "metadata": {},
   "outputs": [],
   "source": [
    "f=lambda x:sin(x)"
   ]
  },
  {
   "cell_type": "code",
   "execution_count": 4,
   "metadata": {},
   "outputs": [],
   "source": [
    "f=lambda x:cos(x)"
   ]
  },
  {
   "cell_type": "code",
   "execution_count": 5,
   "metadata": {},
   "outputs": [],
   "source": [
    "f=lambda x:x**2-x+5"
   ]
  },
  {
   "cell_type": "markdown",
   "metadata": {},
   "source": [
    "\n",
    "# <font color='blue'> méthode des rectangles à gauche : </font>"
   ]
  },
  {
   "cell_type": "markdown",
   "metadata": {},
   "source": [
    ">La plupart des méthodes d'intégration numérique fonctionnent sur le même principe. On commence par couper le gros intervalle [a,b] en N plus petits intervalles [ai,ai+1], avec a1=a et aN+1=b. Puis, pour chaque intervalle [ai,ai+1], on essaie d'approcher . Les moyens les plus simples sont :\n",
    "la méthode des rectangles à gauche : on approche  par . Géométriquement, cela signifie qu'on approche l'intégrale de f par l'aire des rectangles hachurés en vert :\n",
    "\n",
    "<img src=\"image6.JPG\"/>"
   ]
  },
  {
   "cell_type": "code",
   "execution_count": 6,
   "metadata": {},
   "outputs": [],
   "source": [
    "class RectangleG ( object ) :\n",
    "    def __init__ (self , a , b , n , f ) :\n",
    "        self.a = a\n",
    "        self.b = b\n",
    "        self.x = np.linspace( a , b , n+1 )\n",
    "        self.f = f\n",
    "        self.n = n\n",
    "    def integrate ( self , f ) :\n",
    "        x= self.x\n",
    "        y= f( x )\n",
    "        h = float( x[1] - x[0] )\n",
    "        s = sum( y[ 0 : -1 ] )\n",
    "        return h * s\n",
    "    def Graph ( self , f , resolution =1001 ) :\n",
    "        xl = self.x\n",
    "        yl = f(xl)\n",
    "        xlist_fine =np.linspace( self.a , self.b , resolution )\n",
    "        for i in range ( self.n ) :\n",
    "            x_rect = [xl[ i ] , xl[ i ] , xl[ i + 1 ] , xl[i+1] , xl[ i ] ] # abscisses des sommets\n",
    "            y_rect = [0 , yl[ i ] , yl[ i ] , 0 , 0 ] # ordonnees des sommets\n",
    "            plt.plot ( x_rect , y_rect , 'r' )\n",
    "        yflist_fine = f ( xlist_fine )\n",
    "        plt.plot ( xlist_fine , yflist_fine )\n",
    "        plt.plot(xl, yl,\"bo\")\n",
    "        plt.xlabel ( 'x' )\n",
    "        plt.ylabel ( ' f ( x ) ' )\n",
    "        plt.title ( ' Methode des rectangles gauches' )\n",
    "        #plt.text( 0.5*( self.a+ self.b ) , f(self.b ) , 'I_{} ={:0.8f}'.format(self.n,self.integrate( f ) ) , fontsize =15 )   "
   ]
  },
  {
   "cell_type": "code",
   "execution_count": 7,
   "metadata": {},
   "outputs": [
    {
     "data": {
      "image/png": "[encoded data removed]",
      "text/plain": [
       "<Figure size 432x288 with 1 Axes>"
      ]
     },
     "metadata": {
      "needs_background": "light"
     },
     "output_type": "display_data"
    }
   ],
   "source": [
    "def simulation(n,f):\n",
    "    Re=RectangleG(-1,1,n,f)\n",
    "    return Re.Graph(f) \n",
    "simulation(5,f)"
   ]
  },
  {
   "cell_type": "code",
   "execution_count": 8,
   "metadata": {},
   "outputs": [
    {
     "data": {
      "application/vnd.jupyter.widget-view+json": {
       "model_id": "6d6929f96c5e45f8bf0a3033dc01eeb4",
       "version_major": 2,
       "version_minor": 0
      },
      "text/plain": [
       "interactive(children=(IntSlider(value=10, description='n', max=50, min=1, step=5), Dropdown(description='f', o…"
      ]
     },
     "metadata": {},
     "output_type": "display_data"
    },
    {
     "data": {
      "text/plain": [
       "<function __main__.simulation(n, f)>"
      ]
     },
     "execution_count": 8,
     "metadata": {},
     "output_type": "execute_result"
    }
   ],
   "source": [
    "interact (simulation, n=widgets.IntSlider(\n",
    "    min=1, max=50, step=5,value=10), f={'1/(1+x**2)': lambda x:1/(1+x**2), \n",
    "                                        'sin(x)': lambda x:sin(x),'cos(x)': lambda x:cos(x),'x**2-x+5': lambda x:x**2-x+5})"
   ]
  },
  {
   "cell_type": "markdown",
   "metadata": {},
   "source": [
    "# <font color='blue'> Méthode du point milieu : </font>"
   ]
  },
  {
   "cell_type": "markdown",
   "metadata": {},
   "source": [
    ">la méthode du point milieu : on approche  par <img src=\"image7.JPG\"/>.\n",
    "Géométriquement, cela signifie qu'on approche l'intégrale de f par l'aire des rectangles hachurés en bleu :\n",
    "\n",
    "<img src=\"image8.JPG\"/>.\n"
   ]
  },
  {
   "cell_type": "code",
   "execution_count": 9,
   "metadata": {},
   "outputs": [],
   "source": [
    "class PointMilieu(object):\n",
    "    def __init__ (self , a , b , n , f ) :\n",
    "        self.a = a\n",
    "        self.b = b\n",
    "        self.x = np.linspace( a , b , n+1 )\n",
    "        self.f = f\n",
    "        self.n = n\n",
    "    def integrate ( self , f ) :\n",
    "        x= self.x\n",
    "        h = float(x[1] - x[0])\n",
    "        s=0\n",
    "        for i in range(self.n):\n",
    "            s=s+f((x[i]+x[i+1])*0.5)\n",
    "        return h * s\n",
    "    def Graph (self,f,resolution =1001 ):\n",
    "        xl = self.x\n",
    "        yl = f(xl)\n",
    "        xlist_fine =np.linspace( self.a , self.b , resolution )\n",
    "        for i in range ( self.n ) :\n",
    "            m=(xl[i]+xl[i+1])/2\n",
    "            x_rect = [xl[ i ] , xl[ i ] , xl[ i + 1 ] , xl[i+1] , xl[ i ] ] # abscisses des sommets\n",
    "            y_rect = [0 , f(m) , f(m) , 0 , 0 ] # ordonnees des sommets\n",
    "            plt.plot ( x_rect , y_rect , 'r' )\n",
    "        yflist_fine = f ( xlist_fine )\n",
    "        plt.plot ( xlist_fine , yflist_fine )\n",
    "        plt.plot(m,f(m),\"bo\")\n",
    "        plt.xlabel ( 'x' )\n",
    "        plt.ylabel ( ' f ( x ) ' )\n",
    "        plt.title ( ' Methode de point milieu' )\n",
    "        #plt.text( 0.5*( self.a+ self.b ) , f(self.b ) , 'I_{} ={:0.4f}'.format(self.n,self.integrate( f ) ) , fontsize =15 )\n"
   ]
  },
  {
   "cell_type": "code",
   "execution_count": 10,
   "metadata": {},
   "outputs": [
    {
     "data": {
      "image/png": "[encoded data removed]",
      "text/plain": [
       "<Figure size 432x288 with 1 Axes>"
      ]
     },
     "metadata": {
      "needs_background": "light"
     },
     "output_type": "display_data"
    }
   ],
   "source": [
    "def simulationM(n,f):\n",
    "    M=PointMilieu(-1,1,n,f)\n",
    "    return M.Graph(f)   \n",
    "simulationM(5,f)"
   ]
  },
  {
   "cell_type": "code",
   "execution_count": 11,
   "metadata": {},
   "outputs": [
    {
     "data": {
      "application/vnd.jupyter.widget-view+json": {
       "model_id": "e61e18ed381d4e91a2a9261f76cf6180",
       "version_major": 2,
       "version_minor": 0
      },
      "text/plain": [
       "interactive(children=(IntSlider(value=10, description='n', max=50, min=1, step=5), Dropdown(description='f', o…"
      ]
     },
     "metadata": {},
     "output_type": "display_data"
    },
    {
     "data": {
      "text/plain": [
       "<function __main__.simulationM(n, f)>"
      ]
     },
     "execution_count": 11,
     "metadata": {},
     "output_type": "execute_result"
    }
   ],
   "source": [
    "\n",
    "interact (simulationM, n=widgets.IntSlider(\n",
    "min=1, max=50, step=5,value=10), f={'1/(1+x**2)':lambda x:1/(1+x**2),'sin(x)': np.vectorize(lambda x:sin(x)),'cos(x)': np.vectorize(lambda x:cos(x)),'x**2-x+5': lambda x:x**2-x+5})   "
   ]
  },
  {
   "cell_type": "markdown",
   "metadata": {},
   "source": [
    "# <font color='blue'> simulation de ces deux méthodes : </font>"
   ]
  },
  {
   "cell_type": "code",
   "execution_count": 12,
   "metadata": {},
   "outputs": [],
   "source": [
    "def sim(n,f):\n",
    "    Re=RectangleG(-1,1,n,f)\n",
    "    M=PointMilieu(-1,1,n,f)\n",
    "    fig= plt.figure(figsize=(12,4))\n",
    "    plt.subplot(121)\n",
    "    Re.Graph(f)  \n",
    "    plt.subplot(122)    \n",
    "    M.Graph(f)\n",
    "    plt.show()"
   ]
  },
  {
   "cell_type": "code",
   "execution_count": 13,
   "metadata": {},
   "outputs": [
    {
     "data": {
      "application/vnd.jupyter.widget-view+json": {
       "model_id": "addfc1bbf0d74b0da650443fc5c42337",
       "version_major": 2,
       "version_minor": 0
      },
      "text/plain": [
       "interactive(children=(IntSlider(value=10, description='n', max=50, min=1, step=3), Dropdown(description='f', o…"
      ]
     },
     "metadata": {},
     "output_type": "display_data"
    },
    {
     "data": {
      "text/plain": [
       "<function __main__.sim(n, f)>"
      ]
     },
     "execution_count": 13,
     "metadata": {},
     "output_type": "execute_result"
    }
   ],
   "source": [
    "interact(sim,n=widgets.IntSlider(min=1, max=50, step=3, value=10),f={'1/(1+x**2)':lambda x:1/(1+x**2),'sin(x)':np.vectorize(lambda x:sin(x)),'cos(x)': np.vectorize(lambda x:cos(x)),'x**2-x+5': lambda x:x**2-x+5})"
   ]
  },
  {
   "cell_type": "markdown",
   "metadata": {},
   "source": [
    "# <font color='blue'> Méthode des trapèzes : </font>"
   ]
  },
  {
   "cell_type": "markdown",
   "metadata": {},
   "source": [
    ">La méthode d'intégration approchée, dite des trapèzes, décrite ci-après, introduite par Newton & Cotes est plus précise que la méthode élémentaire, dite des rectangles, correspondant aux sommes de Cauchy-Riemann, consistant à remplacer la fonction initiale par une approximation en escalier. Graphiquement, sur l'intervalle [xi, xi+1], on remplace l'arc de courbe par le segment [MiNi+1], donc l'aire sous la courbe, par le « rectangle » xi Mi Ni+1 xi+1 (figure de gauche) :\n",
    "<img src=\"image9.JPG\"/>.\n",
    "\n",
    ">La méthode des trapèzes, étudiée ici, remplace tout arc de courbe correspondant à [xi,xi+1] par le segment [MiMi+1], donc l'aire sous la courbe, par « trapèze » xi Mi Mi+1 xi+1 au lieu du « rectangle » xi Mi Ni+1 xi+1 (figure de droite ci-dessus).\n"
   ]
  },
  {
   "cell_type": "code",
   "execution_count": 14,
   "metadata": {},
   "outputs": [],
   "source": [
    "class Trapezoidal(object):\n",
    "    def __init__(self, a, b, n, f):\n",
    "        self.a = a\n",
    "        self.b = b\n",
    "        self.x = np.linspace(a, b, n+1)\n",
    "        self.f = f\n",
    "        self.n = n\n",
    "    def integrate(self,f):\n",
    "        x=self.x\n",
    "        y=f(x)\n",
    "        h = float(x[1] - x[0])\n",
    "        s = y[0] + y[-1] + 2.0*sum(y[1:-1])\n",
    "        return h * s / 2.0\n",
    "    def Graph(self,f,resolution=1001):\n",
    "        xl = self.x\n",
    "        yl = f(xl)\n",
    "        xlist_fine=np.linspace(self.a, self.b, resolution)\n",
    "        for i in range(self.n):\n",
    "            x_rect = [xl[i], xl[i], xl[i+1], xl[i+1], xl[i]] # abscisses des sommets\n",
    "            y_rect = [0   , yl[i], yl[i+1]  , 0     , 0   ] # ordonnees des sommets\n",
    "            plt.plot(x_rect, y_rect,\"r\")\n",
    "        yflist_fine = f(xlist_fine)\n",
    "        plt.plot(xlist_fine, yflist_fine)#plot de f(x)\n",
    "        plt.plot(xl, yl,\"cs\")#point support\n",
    "        plt.ylabel ( ' f ( x ) ' )\n",
    "        plt.title('Methode des Trapézes, N = {}'.format(self.n))\n",
    "        #plt.text( 0.5*( self.a+ self.b ) , f(self.b ) , 'I_{} ={:0.8f}'.format(self.n,self.integrate( f ) ) , fontsize =15 )"
   ]
  },
  {
   "cell_type": "code",
   "execution_count": 15,
   "metadata": {},
   "outputs": [
    {
     "data": {
      "image/png": "[encoded data removed]",
      "text/plain": [
       "<Figure size 432x288 with 1 Axes>"
      ]
     },
     "metadata": {
      "needs_background": "light"
     },
     "output_type": "display_data"
    }
   ],
   "source": [
    "def simulationT(n,f):\n",
    "    T=Trapezoidal(-1,1,n,f)\n",
    "    return T.Graph(f)  \n",
    "simulationT(5,f)"
   ]
  },
  {
   "cell_type": "code",
   "execution_count": 16,
   "metadata": {},
   "outputs": [
    {
     "data": {
      "application/vnd.jupyter.widget-view+json": {
       "model_id": "0a29c5d0247b41c28234f668ead7034d",
       "version_major": 2,
       "version_minor": 0
      },
      "text/plain": [
       "interactive(children=(IntSlider(value=10, description='n', max=50, min=1, step=5), Dropdown(description='f', o…"
      ]
     },
     "metadata": {},
     "output_type": "display_data"
    },
    {
     "data": {
      "text/plain": [
       "<function __main__.simulationT(n, f)>"
      ]
     },
     "execution_count": 16,
     "metadata": {},
     "output_type": "execute_result"
    }
   ],
   "source": [
    "\n",
    "interact (simulationT, n=widgets.IntSlider(\n",
    "min=1, max=50, step=5,value=10), f={'1/(1+x**2)':lambda x:1/(1+x**2),'sin(x)': np.vectorize(lambda x:sin(x)),'cos(x)': np.vectorize(lambda x:cos(x)),'x**2-x+5': lambda x:x**2-x+5})   "
   ]
  },
  {
   "cell_type": "markdown",
   "metadata": {},
   "source": [
    "\n",
    "# <font color='blue'> Visualisation de ces 3 méthodes : </font>"
   ]
  },
  {
   "cell_type": "code",
   "execution_count": 17,
   "metadata": {},
   "outputs": [],
   "source": [
    "def simf(n,f):\n",
    "    Re=RectangleG(-1,1,n,f)\n",
    "    M=PointMilieu(-1,1,n,f)\n",
    "    T=Trapezoidal(-1,1,n,f)\n",
    "    fig= plt.figure(figsize=(17,4))\n",
    "    plt.subplot(131)\n",
    "    Re.Graph(f)  \n",
    "    plt.subplot(132)\n",
    "    M.Graph(f)\n",
    "    plt.subplot(133)    \n",
    "    T.Graph(f)\n",
    "    plt.show()"
   ]
  },
  {
   "cell_type": "code",
   "execution_count": 18,
   "metadata": {},
   "outputs": [
    {
     "data": {
      "application/vnd.jupyter.widget-view+json": {
       "model_id": "028d87316604425bb76840422448aaf6",
       "version_major": 2,
       "version_minor": 0
      },
      "text/plain": [
       "interactive(children=(IntSlider(value=10, description='n', max=50, min=1, step=3), Dropdown(description='f', o…"
      ]
     },
     "metadata": {},
     "output_type": "display_data"
    },
    {
     "data": {
      "text/plain": [
       "<function __main__.simf(n, f)>"
      ]
     },
     "execution_count": 18,
     "metadata": {},
     "output_type": "execute_result"
    }
   ],
   "source": [
    "interact(simf,n=widgets.IntSlider(min=1, max=50, step=3, value=10),f={'1/(1+x**2)':lambda x:1/(1+x**2),'sin(x)':np.vectorize(lambda x:sin(x)),'cos(x)': np.vectorize(lambda x:cos(x)),'x**2-x+5': lambda x:x**2-x+5})"
   ]
  },
  {
   "cell_type": "markdown",
   "metadata": {},
   "source": [
    "# <font color='blue'> Méthode de Simpson : </font>"
   ]
  },
  {
   "cell_type": "markdown",
   "metadata": {},
   "source": [
    ">La méthode de Simpson consiste à grouper trois points consécutifs de la courbe Mi, Mi+1 et Mi+2 et de remplacer l'arc de courbe passant par ces trois points par un arc de parabole. Notons que si les points Mi, Mi+1 et Mi+2 sont alignés, le calcul des paramètres de la parabole d'équation y = mx2 + px + q, passant par ces points conduira à m = 0. Par suite, quitte à parler de parabole dégénérée, ce cas n'est pas singulier.\n",
    "\n",
    "<img src=\"image10.JPG\"/>."
   ]
  },
  {
   "cell_type": "code",
   "execution_count": 19,
   "metadata": {},
   "outputs": [],
   "source": [
    "class Simpson ( object ) :\n",
    "    def __init__ (self , a , b , n , f ) :\n",
    "        self.a = a\n",
    "        self.b = b\n",
    "        self.x = np.linspace( a , b , n+1 )\n",
    "        self.f = f\n",
    "        self.n = n   \n",
    "    def integrate ( self , f ) :\n",
    "        x = self.x\n",
    "        y=f(x)\n",
    "        h=float(x[1]-x[0])\n",
    "        n=len(x)-1\n",
    "        if n%2==1:\n",
    "            n-=1\n",
    "        s = y[0] + y[n] + 4.0 * sum(y[1:-1:2]) + 2.0 * sum(y[2:-2:2])\n",
    "        return h*s/3.0\n",
    "    def Graph ( self , f , resolution=1001 ) :\n",
    "        xl = self.x\n",
    "        yl = f(xl)\n",
    "        xlist_fine=np.linspace( self.a , self.b , resolution )\n",
    "        for i in range ( self.n ) :\n",
    "            xx=np.linspace(xl[i],xl[i+1],resolution)\n",
    "            m=(xl[i]+xl[i+1])/2\n",
    "            aa=xl[i]\n",
    "            bb=xl[i+1]\n",
    "            l0=(xx-m)/(aa-m)*(xx-bb)/(aa-bb)\n",
    "            l1=(xx-aa)/(m-aa)*(xx-bb)/(m-bb)\n",
    "            l2=(xx-aa)/(bb-aa)*(xx-m)/(bb-m)\n",
    "            P=f(aa)*l0+f(m)*l1+f(bb)*l2\n",
    "            plt.plot(xx,P,'b')\n",
    "            plt.plot(m,f(m),\"r*\")\n",
    "    \n",
    "        yflist_fine=f(xlist_fine)\n",
    "        plt.plot (xlist_fine,yflist_fine,'g' )\n",
    "        plt.plot (xl,yl,'bo' )\n",
    "        plt.ylabel ( 'f(x)' )\n",
    "        plt.title ( ' Méthode de Simpson' )\n",
    "        #plt.text( 0.5*( self.a+ self.b ) , f(self.b ) , 'I_{} ={:0.8f}'.format(self.n,self.integrate( f ) ) , fontsize =15 )"
   ]
  },
  {
   "cell_type": "code",
   "execution_count": 20,
   "metadata": {},
   "outputs": [
    {
     "data": {
      "image/png": "[encoded data removed]",
      "text/plain": [
       "<Figure size 432x288 with 1 Axes>"
      ]
     },
     "metadata": {
      "needs_background": "light"
     },
     "output_type": "display_data"
    }
   ],
   "source": [
    "def simulationS(n,f):\n",
    "    S=Simpson(-1,1,n,f)\n",
    "    return S.Graph(f) \n",
    "simulationS(6,f)"
   ]
  },
  {
   "cell_type": "code",
   "execution_count": 21,
   "metadata": {},
   "outputs": [],
   "source": [
    "def sim4(n,f):\n",
    "    Re=RectangleG(-1,1,n,f)\n",
    "    M=PointMilieu(-1,1,n,f)\n",
    "    T=Trapezoidal(-1,1,n,f)\n",
    "    S=Simpson(-1,1,n,f)\n",
    "    fig= plt.figure(figsize=(15,8))\n",
    "    plt.subplot(221)\n",
    "    Re.Graph(f)  \n",
    "    plt.subplot(222)\n",
    "    M.Graph(f)\n",
    "    plt.subplot(223)    \n",
    "    T.Graph(f)\n",
    "    plt.subplot(224)    \n",
    "    S.Graph(f)\n",
    "    plt.show()"
   ]
  },
  {
   "cell_type": "code",
   "execution_count": 22,
   "metadata": {},
   "outputs": [
    {
     "data": {
      "application/vnd.jupyter.widget-view+json": {
       "model_id": "52ecc4107db441b588218d4ff7d58a14",
       "version_major": 2,
       "version_minor": 0
      },
      "text/plain": [
       "interactive(children=(IntSlider(value=10, description='n', max=50, min=1, step=3), Dropdown(description='f', o…"
      ]
     },
     "metadata": {},
     "output_type": "display_data"
    },
    {
     "data": {
      "text/plain": [
       "<function __main__.sim4(n, f)>"
      ]
     },
     "execution_count": 22,
     "metadata": {},
     "output_type": "execute_result"
    }
   ],
   "source": [
    "interact(sim4,n=widgets.IntSlider(min=1, max=50, step=3, value=10),f={'1/(1+x**2)':lambda x:1/(1+x**2),'sin(x)':np.vectorize(lambda x:sin(x)),'cos(x)': np.vectorize(lambda x:cos(x)),'x**2-x+5': lambda x:x**2-x+5})"
   ]
  },
  {
   "cell_type": "markdown",
   "metadata": {},
   "source": [
    "## <center color='red'>--Interface Grapgique--</center>"
   ]
  },
  {
   "cell_type": "code",
   "execution_count": 105,
   "metadata": {},
   "outputs": [],
   "source": [
    "\n",
    "Sel=widgets.Dropdown(\n",
    "    options=[('Méthode des réctangles gauches', 1), ('Méthode des Trapèzes', 2),('Méthodes des Points Milieux', 3) ,('Méthodes de Simpson', 4)],\n",
    "    value=1,\n",
    "    description='Méthode:',\n",
    ")\n",
    "\n",
    "text_func = widgets.Text(value='cos(x)', description='Fonction', continuous_update=False)\n",
    "\n",
    "text_xlabel = widgets.Text(value='', description='xlabel', continuous_update=False)\n",
    "\n",
    "text_ylabel = widgets.Text(value='', description='ylabel', continuous_update=False)\n",
    "text_a = widgets.Text(value='-1', description='a', continuous_update=False)\n",
    "\n",
    "text_b = widgets.Text(value='1', description='b', continuous_update=False)\n",
    "text_n = widgets.Text(value='3', description='n', continuous_update=True)\n",
    "\n",
    "text_int = widgets.Text(value='', description='I_n', continuous_update=True)\n",
    "\n",
    "button = widgets.Button(description=\"Calculer\")\n",
    "\n",
    "def sim(b):\n",
    "    \n",
    "    ax.clear()\n",
    "    dic={1:RectangleG,2:Trapezoidal,3:PointMilieu,4:Simpson}\n",
    "    s=Sel.value\n",
    "    plt.cla()\n",
    "    func=lambda x:eval(text_func.value)\n",
    "    \n",
    "    R=dic[s](float(text_a.value), float(text_b.value),int(text_n.value),func)\n",
    "    R.Graph(func)\n",
    "    text_int.value=str(R.integrate(func))\n",
    "    text_int.description='I_'+text_n.value\n",
    "    displayF()\n",
    "\n",
    "\n",
    "\n",
    "def update_a(change):\n",
    "    change.new    \n",
    "def update_b(change):\n",
    "    change.new\n",
    "def update_n(change):\n",
    "    change.new\n",
    "def update_f(change):\n",
    "    change.new\n",
    "\n",
    "button.on_click(sim)\n",
    "\n",
    "\n",
    "text_func.observe(update_f, 'value')\n",
    "text_a.observe(update_a, 'value')\n",
    "text_b.observe(update_b, 'value')"
   ]
  },
  {
   "cell_type": "code",
   "execution_count": 106,
   "metadata": {},
   "outputs": [
    {
     "data": {
      "image/png": "[encoded data removed]",
      "text/plain": [
       "<Figure size 432x288 with 1 Axes>"
      ]
     },
     "metadata": {
      "needs_background": "light"
     },
     "output_type": "display_data"
    }
   ],
   "source": [
    "\n",
    "output = widgets.Output()\n",
    "with output:\n",
    "    fig, ax = plt.subplots( figsize=(6, 4))\n",
    "    fig.canvas.toolbar_position = 'bottom'\n",
    "    \n"
   ]
  },
  {
   "cell_type": "code",
   "execution_count": 107,
   "metadata": {
    "scrolled": true
   },
   "outputs": [
    {
     "data": {
      "application/vnd.jupyter.widget-view+json": {
       "model_id": "9897c85615a8463d8225c88cb87abb54",
       "version_major": 2,
       "version_minor": 0
      },
      "text/plain": [
       "HBox(children=(VBox(children=(Dropdown(description='Méthode:', options=(('Méthode des réctangles gauches', 1),…"
      ]
     },
     "metadata": {},
     "output_type": "display_data"
    },
    {
     "data": {
      "image/png": "[encoded data removed]",
      "text/plain": [
       "<Figure size 432x288 with 1 Axes>"
      ]
     },
     "metadata": {
      "needs_background": "light"
     },
     "output_type": "display_data"
    }
   ],
   "source": [
    "def make_boxes():\n",
    "    vbox1 = widgets.VBox([Sel, text_func,text_a,text_b,text_n,button,text_int])\n",
    "    displayF()\n",
    "    vbox2 = widgets.VBox([output])\n",
    "    return vbox1, vbox2\n",
    "box_layout = widgets.Layout(\n",
    "        border='solid 2px yellow',\n",
    "        margin='0px 10px 10px 0px',\n",
    "        padding='5px 5px 5px 5px')\n",
    "\n",
    "\n",
    "vbox1, vbox2 = make_boxes()\n",
    "vbox1.add_class(\"box_style\")\n",
    "vbox2.add_class(\"box_style\")\n",
    "vbox1.layout = box_layout\n",
    "vbox2.layout = box_layout\n",
    "\n",
    "widgets.HBox([vbox1, vbox2])\n"
   ]
  },
  {
   "cell_type": "markdown",
   "metadata": {},
   "source": [
    "# <font color='red'>Conclusion : </font>"
   ]
  },
  {
   "cell_type": "markdown",
   "metadata": {},
   "source": [
    ">Plus que le nombre de subdivisions augmente, les valeurs sont plus proches des valeurs exactes. "
   ]
  }
 ],
 "metadata": {
  "kernelspec": {
   "display_name": "Python 3",
   "language": "python",
   "name": "python3"
  },
  "language_info": {
   "codemirror_mode": {
    "name": "ipython",
    "version": 3
   },
   "file_extension": ".py",
   "mimetype": "text/x-python",
   "name": "python",
   "nbconvert_exporter": "python",
   "pygments_lexer": "ipython3",
   "version": "3.7.6"
  }
 },
 "nbformat": 4,
 "nbformat_minor": 4
}
